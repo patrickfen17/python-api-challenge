{
 "cells": [
  {
   "cell_type": "markdown",
   "metadata": {},
   "source": [
    "# WeatherPy\n",
    "----\n",
    "\n",
    "#### Note\n",
    "* Instructions have been included for each segment. You do not have to follow them exactly, but they are included to help you think through the steps."
   ]
  },
  {
   "cell_type": "code",
   "execution_count": 2,
   "metadata": {
    "scrolled": true
   },
   "outputs": [],
   "source": [
    "# Dependencies and Setup\n",
    "import matplotlib.pyplot as plt\n",
    "import pandas as pd\n",
    "import numpy as np\n",
    "import requests\n",
    "import time\n",
    "from scipy.stats import linregress\n",
    "from datetime import datetime\n",
    "\n",
    "# Import API key\n",
    "from api_keys import weather_api_key\n",
    "\n",
    "# Incorporated citipy to determine city based on latitude and longitude\n",
    "from citipy import citipy\n",
    "\n",
    "# Output File (CSV)\n",
    "output_data_file = \"output_data/cities.csv\"\n",
    "\n",
    "# Range of latitudes and longitudes\n",
    "lat_range = (-90, 90)\n",
    "lng_range = (-180, 180)"
   ]
  },
  {
   "cell_type": "markdown",
   "metadata": {},
   "source": [
    "## Generate Cities List"
   ]
  },
  {
   "cell_type": "code",
   "execution_count": 3,
   "metadata": {},
   "outputs": [
    {
     "data": {
      "text/plain": [
       "651"
      ]
     },
     "execution_count": 3,
     "metadata": {},
     "output_type": "execute_result"
    }
   ],
   "source": [
    "# List for holding lat_lngs and cities\n",
    "lat_lngs = []\n",
    "cities = []\n",
    "\n",
    "# Create a set of random lat and lng combinations\n",
    "lats = np.random.uniform(lat_range[0], lat_range[1], size=1500)\n",
    "lngs = np.random.uniform(lng_range[0], lng_range[1], size=1500)\n",
    "lat_lngs = zip(lats, lngs)\n",
    "\n",
    "# Identify nearest city for each lat, lng combination\n",
    "for lat_lng in lat_lngs:\n",
    "    city = citipy.nearest_city(lat_lng[0], lat_lng[1]).city_name\n",
    "    \n",
    "    # If the city is unique, then add it to a our cities list\n",
    "    if city not in cities:\n",
    "        cities.append(city)\n",
    "\n",
    "# Print the city count to confirm sufficient count\n",
    "len(cities)"
   ]
  },
  {
   "cell_type": "markdown",
   "metadata": {},
   "source": [
    "### Perform API Calls\n",
    "* Perform a weather check on each city using a series of successive API calls.\n",
    "* Include a print log of each city as it'sbeing processed (with the city number and city name).\n"
   ]
  },
  {
   "cell_type": "code",
   "execution_count": 4,
   "metadata": {
    "scrolled": true
   },
   "outputs": [
    {
     "name": "stdout",
     "output_type": "stream",
     "text": [
      "Found ahipara\n",
      "Found korhogo\n",
      "Found taltal\n",
      "Could not find a city\n",
      "Found rudraprayag\n",
      "Found dingle\n",
      "Found sitka\n",
      "Found farah\n",
      "Found kawalu\n",
      "Found emerald\n",
      "Could not find a city\n",
      "Found punta arenas\n",
      "Found puerto colombia\n",
      "Found vila franca do campo\n",
      "Could not find a city\n",
      "Found linqiong\n",
      "Found yellowknife\n",
      "Found albany\n",
      "Found carnarvon\n",
      "Found ushuaia\n",
      "Found hualmay\n",
      "Found atuona\n",
      "Found nemuro\n",
      "Found torbay\n",
      "Found ribeira grande\n",
      "Found salalah\n",
      "Found cape town\n",
      "Found chuy\n",
      "Found cidreira\n",
      "Could not find a city\n",
      "Found vangaindrano\n",
      "Found hokitika\n",
      "Found jamestown\n",
      "Found severo-kurilsk\n",
      "Found hirara\n",
      "Found castro\n",
      "Found college\n",
      "Found doha\n",
      "Found alekseyevka\n",
      "Could not find a city\n",
      "Found hilo\n",
      "Found ballina\n",
      "Found mataura\n",
      "Could not find a city\n",
      "Found vaini\n",
      "Found tiksi\n",
      "Could not find a city\n",
      "Found mar del plata\n",
      "Found avera\n",
      "Found nan\n",
      "Found bucerias\n",
      "Found saint george\n",
      "Could not find a city\n",
      "Found khalkhal\n",
      "Found hermanus\n",
      "Found havre\n",
      "Found peto\n",
      "Found busselton\n",
      "Found hobart\n",
      "Found half moon bay\n",
      "Found bluff\n",
      "Found kavieng\n",
      "Found pevek\n",
      "Found tuktoyaktuk\n",
      "Found russell\n",
      "Found rikitea\n",
      "Found el dorado\n",
      "Found anadyr\n",
      "Found chegdomyn\n",
      "Found mahebourg\n",
      "Could not find a city\n",
      "Found rosetta\n",
      "Found poum\n",
      "Found saskylakh\n",
      "Found shu\n",
      "Could not find a city\n",
      "Found hithadhoo\n",
      "Found lebu\n",
      "Found nikolskoye\n",
      "Found hofn\n",
      "Found maridi\n",
      "Found sao joao da barra\n",
      "Found turukhansk\n",
      "Found muros\n",
      "Found krasnyy chikoy\n",
      "Found parrita\n",
      "Found kungurtug\n",
      "Found faanui\n",
      "Found mount isa\n",
      "Found east london\n",
      "Found santarem\n",
      "Found ostrovnoy\n",
      "Found new norfolk\n",
      "Found wajir\n",
      "Found dikson\n",
      "Could not find a city\n",
      "Could not find a city\n",
      "Found khatanga\n",
      "Found qobustan\n",
      "Found bara\n",
      "Found pacific grove\n",
      "Could not find a city\n",
      "Found arraial do cabo\n",
      "Found dakar\n",
      "Could not find a city\n",
      "Found vardo\n",
      "Found kamloops\n",
      "Found brae\n",
      "Found oliveira dos brejinhos\n",
      "Found fortuna\n",
      "Could not find a city\n",
      "Found pangody\n",
      "Found avarua\n",
      "Found iqaluit\n",
      "Found areosa\n",
      "Found krasnoye\n",
      "Could not find a city\n",
      "Found manitouwadge\n",
      "Found cayenne\n",
      "Found ponta do sol\n",
      "Found omboue\n",
      "Found kaitangata\n",
      "Found panaba\n",
      "Found moron\n",
      "Found honiton\n",
      "Found biak\n",
      "Found saint-philippe\n",
      "Found kemijarvi\n",
      "Found san policarpo\n",
      "Found lompoc\n",
      "Found georgetown\n",
      "Found vadso\n",
      "Found ambatolampy\n",
      "Found phan thiet\n",
      "Found north bend\n",
      "Found acapulco\n",
      "Found port alfred\n",
      "Found rocha\n",
      "Could not find a city\n",
      "Found kyra\n",
      "Found ugoofaaru\n",
      "Found cabo san lucas\n",
      "Found san patricio\n",
      "Found butaritari\n",
      "Could not find a city\n",
      "Found norman wells\n",
      "Found sola\n",
      "Found vao\n",
      "Found sipe sipe\n",
      "Found nizhniy kuranakh\n",
      "Found yulara\n",
      "Found varhaug\n",
      "Found taunton\n",
      "Could not find a city\n",
      "Found paamiut\n",
      "Found komsomolskiy\n",
      "Found hemnesberget\n",
      "Found bonavista\n",
      "Found northam\n",
      "Found dengzhou\n",
      "Found port augusta\n",
      "Found tasiilaq\n",
      "Found outlook\n",
      "Found souillac\n",
      "Found bethel\n",
      "Found pimenta bueno\n",
      "Found baghdad\n",
      "Found pisco\n",
      "Found clyde river\n",
      "Found eureka\n",
      "Could not find a city\n",
      "Could not find a city\n",
      "Could not find a city\n",
      "Found mus\n",
      "Found port macquarie\n",
      "Found kapaa\n",
      "Found thongwa\n",
      "Found oxford\n",
      "Found jalu\n",
      "Found dzhebariki-khaya\n",
      "Found jardim\n",
      "Found gat\n",
      "Found kudahuvadhoo\n",
      "Found karasjok\n",
      "Found sao jose da coroa grande\n",
      "Found north branch\n",
      "Found huambo\n",
      "Found bambous virieux\n",
      "Found carthage\n",
      "Found mackay\n",
      "Found manokwari\n",
      "Found rock sound\n",
      "Found asfi\n",
      "Found port lincoln\n",
      "Could not find a city\n",
      "Found udachnyy\n",
      "Found marawi\n",
      "Found petropavlovsk-kamchatskiy\n",
      "Found codrington\n",
      "Found provideniya\n",
      "Found mayumba\n",
      "Could not find a city\n",
      "Found isangel\n",
      "Found lata\n",
      "Found bredasdorp\n",
      "Found bugene\n",
      "Found huancabamba\n",
      "Found kasganj\n",
      "Found anloga\n",
      "Found talakan\n",
      "Found autun\n",
      "Found tahoua\n",
      "Found verkhoyansk\n",
      "Found qostanay\n",
      "Found severo-yeniseyskiy\n",
      "Found barao de melgaco\n",
      "Found saint-joseph\n",
      "Found longyearbyen\n",
      "Found barrow\n",
      "Could not find a city\n",
      "Could not find a city\n",
      "Found corlu\n",
      "Found eenhana\n",
      "Could not find a city\n",
      "Found imuris\n",
      "Found nizhniy baskunchak\n",
      "Found alibunan\n",
      "Found lavrentiya\n",
      "Could not find a city\n",
      "Found vostok\n",
      "Found dasoguz\n",
      "Found tautira\n",
      "Found oia\n",
      "Found surt\n",
      "Found zunyi\n",
      "Found rock springs\n",
      "Found igrim\n",
      "Found yar-sale\n",
      "Found plettenberg bay\n",
      "Found jian\n",
      "Found trinidad\n",
      "Could not find a city\n",
      "Found chilca\n",
      "Found siavonga\n",
      "Found north berwick\n",
      "Found coquimbo\n",
      "Found thompson\n",
      "Found san quintin\n",
      "Found beloha\n",
      "Found shimoda\n",
      "Found bontang\n",
      "Found kahului\n",
      "Found mildura\n",
      "Found rostusa\n",
      "Found egvekinot\n",
      "Found broome\n",
      "Found tyukalinsk\n",
      "Found tikhvin\n",
      "Found jiexiu\n",
      "Found verkhnyaya inta\n",
      "Found alugan\n",
      "Found pitimbu\n",
      "Found garden city\n",
      "Found upernavik\n",
      "Found pangnirtung\n",
      "Found puerto ayora\n",
      "Found gamba\n",
      "Found russkaya polyana\n",
      "Found victoria\n",
      "Found sardice\n",
      "Found ivankiv\n",
      "Found yima\n",
      "Found belaya gora\n",
      "Found charters towers\n",
      "Found potosi\n",
      "Found constitucion\n",
      "Found qaanaaq\n",
      "Found praia da vitoria\n",
      "Found umm kaddadah\n",
      "Could not find a city\n",
      "Found bengkulu\n",
      "Found camacha\n",
      "Found sokoni\n",
      "Found fenoarivo\n",
      "Found port elizabeth\n",
      "Found sisimiut\n",
      "Found qasigiannguit\n",
      "Could not find a city\n",
      "Found pangoa\n",
      "Could not find a city\n",
      "Found zeya\n",
      "Found alofi\n",
      "Found aromashevo\n",
      "Found werda\n",
      "Found kangaatsiaq\n",
      "Found carutapera\n",
      "Found soyo\n",
      "Could not find a city\n",
      "Found coihaique\n",
      "Found dalbeattie\n",
      "Found sajanan\n",
      "Found aklavik\n",
      "Found saint-leu\n",
      "Found nanortalik\n",
      "Found ilulissat\n",
      "Found bull savanna\n",
      "Found casarano\n",
      "Could not find a city\n",
      "Found axim\n",
      "Found bouar\n",
      "Found itarema\n",
      "Could not find a city\n",
      "Found nanchang\n",
      "Found portland\n",
      "Found hay river\n",
      "Found qaqortoq\n",
      "Found palmares do sul\n",
      "Found tura\n",
      "Found san alberto\n",
      "Could not find a city\n",
      "Found korla\n",
      "Found airai\n",
      "Found lorengau\n",
      "Found east wenatchee bench\n",
      "Found at-bashi\n",
      "Found south lake tahoe\n",
      "Found polovinnoye\n",
      "Found vila\n",
      "Found ginir\n",
      "Found mikkeli\n",
      "Found fukue\n",
      "Found veraval\n",
      "Found ayagoz\n",
      "Could not find a city\n",
      "Found nome\n",
      "Could not find a city\n",
      "Could not find a city\n",
      "Found senneterre\n",
      "Could not find a city\n",
      "Found yeppoon\n",
      "Found aswan\n",
      "Found talnakh\n",
      "Found dabakala\n",
      "Found uncia\n",
      "Found yorosso\n",
      "Found kukuna\n",
      "Found krasnoobsk\n",
      "Found fare\n",
      "Found gamagori\n",
      "Found ixtapa\n",
      "Found florence\n",
      "Found hammerfest\n",
      "Found asau\n",
      "Found kedrovyy\n",
      "Found moyale\n",
      "Found xochihuehuetlan\n",
      "Found augusto correa\n",
      "Found cuiaba\n",
      "Found methoni\n",
      "Found ekhabi\n",
      "Found soma\n",
      "Found goma\n",
      "Found prince rupert\n",
      "Found tagab\n",
      "Found rakiv lis\n",
      "Found buchanan\n",
      "Found batagay-alyta\n",
      "Found jaisalmer\n",
      "Found muncar\n",
      "Found mogadishu\n",
      "Found behat\n",
      "Found sabang\n",
      "Found harper\n",
      "Found chara\n",
      "Found atar\n",
      "Could not find a city\n",
      "Found touho\n",
      "Found eyl\n",
      "Found khandyga\n",
      "Found simpang\n",
      "Found deputatskiy\n",
      "Found alihe\n",
      "Found ossora\n",
      "Found sabzevar\n",
      "Found chatellerault\n",
      "Found perth\n",
      "Found garowe\n",
      "Found araouane\n",
      "Found buraydah\n",
      "Found kulhudhuffushi\n",
      "Found nhulunbuy\n",
      "Found petrozavodsk\n",
      "Found roald\n",
      "Found florianopolis\n",
      "Found george\n",
      "Found katima mulilo\n",
      "Found monrovia\n",
      "Found xiongyue\n",
      "Found mumford\n",
      "Found lensk\n",
      "Found turayf\n",
      "Found kununurra\n",
      "Could not find a city\n",
      "Found mackenzie\n",
      "Found naze\n",
      "Found zheshart\n",
      "Found inta\n",
      "Found taoudenni\n",
      "Could not find a city\n",
      "Found tilichiki\n",
      "Found libertador general san martin\n",
      "Found cobija\n",
      "Found tecoanapa\n",
      "Found hovd\n",
      "Found yarada\n",
      "Found caravelas\n",
      "Found berlevag\n",
      "Found morro bay\n",
      "Found umm lajj\n",
      "Found mlonggo\n",
      "Found alvorada\n",
      "Found juba\n",
      "Found kampot\n",
      "Found grindavik\n",
      "Found katsuura\n",
      "Found canutama\n",
      "Found ambilobe\n",
      "Found high level\n",
      "Found kostomuksha\n",
      "Found asyut\n",
      "Found nortelandia\n",
      "Found tsaratanana\n",
      "Found berdigestyakh\n",
      "Found nilokheri\n",
      "Found bilma\n",
      "Found kavaratti\n",
      "Could not find a city\n",
      "Could not find a city\n",
      "Found narsaq\n",
      "Found luderitz\n",
      "Could not find a city\n",
      "Found esperance\n",
      "Found bathsheba\n",
      "Found warrnambool\n",
      "Found los palacios\n",
      "Found san ignacio\n",
      "Found hasaki\n",
      "Found cap malheureux\n",
      "Found novyy urengoy\n",
      "Found mareeba\n",
      "Found oranjemund\n",
      "Found dryden\n",
      "Found kieta\n",
      "Found nunoa\n",
      "Found praya\n",
      "Found ilave\n",
      "Found hua hin\n",
      "Found mul\n",
      "Found nanga eboko\n",
      "Found los barrios\n",
      "Found kodiak\n",
      "Found srednekolymsk\n",
      "Found bac lieu\n",
      "Found palmer\n",
      "Found burnie\n",
      "Found shaowu\n",
      "Found muli\n",
      "Found freeport\n",
      "Found shizilu\n",
      "Found khuzhir\n",
      "Found chum phae\n",
      "Found khorixas\n",
      "Found santa cruz\n",
      "Found gijon\n",
      "Found ouidah\n",
      "Found hanyang\n",
      "Found saiha\n",
      "Found sur\n",
      "Found leningradskiy\n",
      "Found high prairie\n",
      "Found jimma\n",
      "Found katangli\n",
      "Found west bay\n",
      "Could not find a city\n",
      "Found chake chake\n",
      "Found arinos\n",
      "Found ulaangom\n",
      "Found chokurdakh\n",
      "Found flin flon\n",
      "Found pemba\n",
      "Found caramoan\n",
      "Found wanlaweyn\n",
      "Found les cayes\n",
      "Found bam\n",
      "Found sandpoint\n",
      "Found saraipali\n",
      "Found kisangani\n",
      "Found morondava\n",
      "Found faya\n",
      "Found seoul\n",
      "Found pierre\n",
      "Found kamenka\n",
      "Found lodja\n",
      "Found banda aceh\n",
      "Found paragominas\n",
      "Found chunoyar\n",
      "Found the valley\n",
      "Found nuuk\n",
      "Found ferrol\n",
      "Found klaksvik\n",
      "Found mount gambier\n",
      "Found nago\n",
      "Found soavinandriana\n",
      "Found sao filipe\n",
      "Found lasa\n",
      "Could not find a city\n",
      "Found tougue\n"
     ]
    },
    {
     "name": "stdout",
     "output_type": "stream",
     "text": [
      "Found etchoropo\n",
      "Found los llanos de aridane\n",
      "Found olinda\n",
      "Found mukhen\n",
      "Found salima\n",
      "Found geraldton\n",
      "Found kozelsk\n",
      "Found azuaga\n",
      "Found maumere\n",
      "Found vyazemskiy\n",
      "Found laguna\n",
      "Found gazli\n",
      "Found gampengrejo\n",
      "Found mbanza-ngungu\n",
      "Found rawson\n",
      "Found touros\n",
      "Found barcelos\n",
      "Found killybegs\n",
      "Found honningsvag\n",
      "Found mocuba\n",
      "Found sorong\n",
      "Found dongkan\n",
      "Found naron\n",
      "Found arman\n",
      "Could not find a city\n",
      "Found noyabrsk\n",
      "Found aksha\n",
      "Found carballo\n",
      "Found shenzhen\n",
      "Found bonthe\n",
      "Found tucuman\n",
      "Found shirokiy\n",
      "Found rudbar\n",
      "Found riberalta\n",
      "Found gugesti\n",
      "Found ancud\n",
      "Found amahai\n",
      "Could not find a city\n",
      "Found kurilsk\n",
      "Found straumen\n",
      "Found jacareacanga\n",
      "Found tutoia\n",
      "Found kasongo-lunda\n",
      "Could not find a city\n",
      "Found richards bay\n",
      "Found ribas do rio pardo\n",
      "Found micheweni\n",
      "Found vestmannaeyjar\n",
      "Found ciudad bolivar\n",
      "Could not find a city\n",
      "Found maragogi\n",
      "Found comodoro rivadavia\n",
      "Found bud\n",
      "Found gravdal\n",
      "Found tazovskiy\n",
      "Found verkhnevilyuysk\n",
      "Found oussouye\n",
      "Found muana\n",
      "Found sorland\n",
      "Found inhambane\n",
      "Found bangassou\n",
      "Found dunedin\n",
      "Found santa cruz de la palma\n",
      "Found magnolia\n",
      "Found umkomaas\n",
      "Found romny\n",
      "Found kirakira\n",
      "Found barabai\n",
      "Found oil city\n",
      "Found znamensk\n",
      "Found amapa\n",
      "Found ambunti\n",
      "Could not find a city\n",
      "Found zonguldak\n",
      "Found haines junction\n",
      "Found sun valley\n",
      "Found taksimo\n",
      "Found lagoa\n",
      "Found druzhba\n",
      "Found maceio\n",
      "Found zhuhai\n",
      "Found iquitos\n",
      "Found dire dawa\n",
      "Found liverpool\n",
      "Found daura\n",
      "Found madaoua\n",
      "Found oranjestad\n",
      "Could not find a city\n",
      "Could not find a city\n",
      "Found douentza\n",
      "Found bunia\n",
      "Found khambhaliya\n",
      "Found praia\n",
      "Found barra do garcas\n",
      "Found pind dadan khan\n",
      "Found santa vitoria do palmar\n",
      "Found guantanamo\n",
      "Found xiangxiang\n",
      "Found indramayu\n",
      "Found ponta delgada\n",
      "Found liusha\n",
      "Found santa fe\n",
      "Found kanniyakumari\n",
      "Found chunskiy\n",
      "Could not find a city\n",
      "Could not find a city\n",
      "Found lancaster\n",
      "Found merauke\n",
      "Found te anau\n",
      "Found cabras\n",
      "Could not find a city\n",
      "Found atambua\n",
      "Found imeni poliny osipenko\n",
      "Found ca mau\n",
      "Found porto novo\n",
      "Found jelgava\n",
      "Found baiyin\n",
      "Found cockburn town\n",
      "Found road town\n",
      "Found puerto lempira\n",
      "Found palasa\n",
      "Found joshimath\n",
      "Found vanimo\n",
      "Found zhigansk\n",
      "Could not find a city\n",
      "Found labuhan\n",
      "Found tiarei\n",
      "Found bhag\n",
      "Found tacoronte\n",
      "Found nobres\n",
      "Found neuquen\n",
      "Found puerto gaitan\n",
      "Found damietta\n",
      "Found thinadhoo\n"
     ]
    }
   ],
   "source": [
    "# Build partial query URL\n",
    "url = \"http://api.openweathermap.org/data/2.5/weather?\"\n",
    "units = \"imperial\"\n",
    "query_url = f\"{url}appid={weather_api_key}&units={units}&q=\"\n",
    "\n",
    "#print(query_url)\n",
    "\n",
    "# Set up lists to hold reponse info\n",
    "cities_found = []\n",
    "lat = []\n",
    "lng = []\n",
    "max_temp = []\n",
    "humidity = []\n",
    "cloudiness = []\n",
    "wind_speed = []\n",
    "country = []\n",
    "date = []\n",
    "\n",
    "# Loop through the list of cities and perform a request for data on each\n",
    "for city in cities:\n",
    "    \n",
    "    response = requests.get(query_url + city).json()\n",
    "    \n",
    "    try: \n",
    "        lat.append(response['coord']['lat'])\n",
    "        lng.append(response['coord']['lon'])\n",
    "        max_temp.append(response['main']['temp'])\n",
    "        humidity.append(response['main']['humidity'])\n",
    "        cloudiness.append(response['clouds']['all'])\n",
    "        wind_speed.append(response['wind']['speed'])\n",
    "        country.append(response['sys']['country'])\n",
    "        date.append(response['dt'])\n",
    "        cities_found.append(city)\n",
    "    \n",
    "        print(f\"Found {city}\") \n",
    "    \n",
    "    except(KeyError, IndexError):\n",
    "        print (\"Could not find a city\")"
   ]
  },
  {
   "cell_type": "markdown",
   "metadata": {},
   "source": [
    "### Convert Raw Data to DataFrame\n",
    "* Export the city data into a .csv.\n",
    "* Display the DataFrame"
   ]
  },
  {
   "cell_type": "code",
   "execution_count": 5,
   "metadata": {},
   "outputs": [
    {
     "data": {
      "text/html": [
       "<div>\n",
       "<style scoped>\n",
       "    .dataframe tbody tr th:only-of-type {\n",
       "        vertical-align: middle;\n",
       "    }\n",
       "\n",
       "    .dataframe tbody tr th {\n",
       "        vertical-align: top;\n",
       "    }\n",
       "\n",
       "    .dataframe thead th {\n",
       "        text-align: right;\n",
       "    }\n",
       "</style>\n",
       "<table border=\"1\" class=\"dataframe\">\n",
       "  <thead>\n",
       "    <tr style=\"text-align: right;\">\n",
       "      <th></th>\n",
       "      <th>City</th>\n",
       "      <th>Lat</th>\n",
       "      <th>Lng</th>\n",
       "      <th>Max Temp</th>\n",
       "      <th>Humidity</th>\n",
       "      <th>Cloudiness</th>\n",
       "      <th>Wind Speed</th>\n",
       "      <th>Country</th>\n",
       "      <th>Date</th>\n",
       "    </tr>\n",
       "  </thead>\n",
       "  <tbody>\n",
       "    <tr>\n",
       "      <th>0</th>\n",
       "      <td>ahipara</td>\n",
       "      <td>-35.1667</td>\n",
       "      <td>173.1667</td>\n",
       "      <td>68.86</td>\n",
       "      <td>84</td>\n",
       "      <td>97</td>\n",
       "      <td>15.97</td>\n",
       "      <td>NZ</td>\n",
       "      <td>1613425013</td>\n",
       "    </tr>\n",
       "    <tr>\n",
       "      <th>1</th>\n",
       "      <td>korhogo</td>\n",
       "      <td>9.4500</td>\n",
       "      <td>-5.6333</td>\n",
       "      <td>86.40</td>\n",
       "      <td>41</td>\n",
       "      <td>95</td>\n",
       "      <td>4.38</td>\n",
       "      <td>CI</td>\n",
       "      <td>1613425013</td>\n",
       "    </tr>\n",
       "    <tr>\n",
       "      <th>2</th>\n",
       "      <td>taltal</td>\n",
       "      <td>-25.4000</td>\n",
       "      <td>-70.4833</td>\n",
       "      <td>68.47</td>\n",
       "      <td>67</td>\n",
       "      <td>21</td>\n",
       "      <td>4.43</td>\n",
       "      <td>CL</td>\n",
       "      <td>1613425013</td>\n",
       "    </tr>\n",
       "    <tr>\n",
       "      <th>3</th>\n",
       "      <td>rudraprayag</td>\n",
       "      <td>30.2833</td>\n",
       "      <td>78.9833</td>\n",
       "      <td>52.92</td>\n",
       "      <td>49</td>\n",
       "      <td>6</td>\n",
       "      <td>4.16</td>\n",
       "      <td>IN</td>\n",
       "      <td>1613425014</td>\n",
       "    </tr>\n",
       "    <tr>\n",
       "      <th>4</th>\n",
       "      <td>dingle</td>\n",
       "      <td>10.9995</td>\n",
       "      <td>122.6711</td>\n",
       "      <td>74.05</td>\n",
       "      <td>89</td>\n",
       "      <td>98</td>\n",
       "      <td>6.98</td>\n",
       "      <td>PH</td>\n",
       "      <td>1613425014</td>\n",
       "    </tr>\n",
       "  </tbody>\n",
       "</table>\n",
       "</div>"
      ],
      "text/plain": [
       "          City      Lat       Lng  Max Temp  Humidity  Cloudiness  Wind Speed  \\\n",
       "0      ahipara -35.1667  173.1667     68.86        84          97       15.97   \n",
       "1      korhogo   9.4500   -5.6333     86.40        41          95        4.38   \n",
       "2       taltal -25.4000  -70.4833     68.47        67          21        4.43   \n",
       "3  rudraprayag  30.2833   78.9833     52.92        49           6        4.16   \n",
       "4       dingle  10.9995  122.6711     74.05        89          98        6.98   \n",
       "\n",
       "  Country        Date  \n",
       "0      NZ  1613425013  \n",
       "1      CI  1613425013  \n",
       "2      CL  1613425013  \n",
       "3      IN  1613425014  \n",
       "4      PH  1613425014  "
      ]
     },
     "execution_count": 5,
     "metadata": {},
     "output_type": "execute_result"
    }
   ],
   "source": [
    "# Create a data frame from cities with lat, Lng etc\n",
    "weather_dict = {\n",
    "            \"City\": cities_found,\n",
    "            \"Lat\": lat,\n",
    "            \"Lng\": lng,\n",
    "            \"Max Temp\": max_temp,\n",
    "            \"Humidity\": humidity,\n",
    "            \"Cloudiness\": cloudiness,\n",
    "            \"Wind Speed\": wind_speed,\n",
    "            \"Country\": country,\n",
    "            'Date': date   \n",
    "                }\n",
    "\n",
    "city_data = pd.DataFrame(weather_dict)\n",
    "\n",
    "# Save city data into a csv file\n",
    "city_data.to_csv(\"output_data/cities.csv\", index = False)\n",
    "\n",
    "# Print city data\n",
    "city_data.head()"
   ]
  },
  {
   "cell_type": "markdown",
   "metadata": {},
   "source": [
    "## Inspect the data and remove the cities where the humidity > 100%.\n",
    "----\n",
    "Skip this step if there are no cities that have humidity > 100%. "
   ]
  },
  {
   "cell_type": "code",
   "execution_count": 6,
   "metadata": {},
   "outputs": [
    {
     "data": {
      "text/html": [
       "<div>\n",
       "<style scoped>\n",
       "    .dataframe tbody tr th:only-of-type {\n",
       "        vertical-align: middle;\n",
       "    }\n",
       "\n",
       "    .dataframe tbody tr th {\n",
       "        vertical-align: top;\n",
       "    }\n",
       "\n",
       "    .dataframe thead th {\n",
       "        text-align: right;\n",
       "    }\n",
       "</style>\n",
       "<table border=\"1\" class=\"dataframe\">\n",
       "  <thead>\n",
       "    <tr style=\"text-align: right;\">\n",
       "      <th></th>\n",
       "      <th>City</th>\n",
       "      <th>Lat</th>\n",
       "      <th>Lng</th>\n",
       "      <th>Max Temp</th>\n",
       "      <th>Humidity</th>\n",
       "      <th>Cloudiness</th>\n",
       "      <th>Wind Speed</th>\n",
       "      <th>Country</th>\n",
       "      <th>Date</th>\n",
       "    </tr>\n",
       "  </thead>\n",
       "  <tbody>\n",
       "  </tbody>\n",
       "</table>\n",
       "</div>"
      ],
      "text/plain": [
       "Empty DataFrame\n",
       "Columns: [City, Lat, Lng, Max Temp, Humidity, Cloudiness, Wind Speed, Country, Date]\n",
       "Index: []"
      ]
     },
     "execution_count": 6,
     "metadata": {},
     "output_type": "execute_result"
    }
   ],
   "source": [
    "# Use .loc to check \"Humidity\" is not > 100\n",
    "city_data.loc[city_data['Humidity'] >100]"
   ]
  },
  {
   "cell_type": "code",
   "execution_count": 7,
   "metadata": {},
   "outputs": [],
   "source": [
    "#  Get the indices of cities that have humidity over 100%.\n",
    "\n",
    "# NOT REQUIRED"
   ]
  },
  {
   "cell_type": "code",
   "execution_count": 8,
   "metadata": {},
   "outputs": [],
   "source": [
    "# Make a new DataFrame equal to the city data to drop all humidity outliers by index.\n",
    "# Passing \"inplace=False\" will make a copy of the city_data DataFrame, which we call \"clean_city_data\".\n",
    "\n",
    "# NOT REQUIRED"
   ]
  },
  {
   "cell_type": "markdown",
   "metadata": {},
   "source": [
    "## Plotting the Data\n",
    "* Use proper labeling of the plots using plot titles (including date of analysis) and axes labels.\n",
    "* Save the plotted figures as .pngs."
   ]
  },
  {
   "cell_type": "markdown",
   "metadata": {},
   "source": [
    "## Latitude vs. Temperature Plot"
   ]
  },
  {
   "cell_type": "code",
   "execution_count": 9,
   "metadata": {
    "scrolled": true
   },
   "outputs": [
    {
     "data": {
      "image/png": "[encoded data removed]",
      "text/plain": [
       "<Figure size 432x288 with 1 Axes>"
      ]
     },
     "metadata": {
      "needs_background": "light"
     },
     "output_type": "display_data"
    }
   ],
   "source": [
    "# Use city_data dataframe for above to generate a scatter plot \n",
    "\n",
    "# Create a scatter plot based on lat and max_temp\n",
    "plt.scatter(x = city_data['Lat'], y = city_data['Max Temp'], edgecolors = 'black', color = 'blue')\n",
    "\n",
    "# This extracts the date and returns it in the local time zone\n",
    "weather_date = datetime.fromtimestamp(city_data.loc[0,'Date']).strftime('%m-%d-%Y')\n",
    "\n",
    "# Add labels and title to plot\n",
    "plt.xlabel(\"Latitude\")\n",
    "plt.ylabel(\"Max Temperature (F)\")\n",
    "plt.title(f\"City Latitude vs Max Temperature ({weather_date})\")\n",
    "plt.grid(b=True, which='major', color='#666666', linestyle='-')\n",
    "\n",
    "# Display plot\n",
    "plt.show()\n",
    "\n",
    "# Plot is showing the relationship between latitude and temp"
   ]
  },
  {
   "cell_type": "markdown",
   "metadata": {},
   "source": [
    "## Latitude vs. Humidity Plot"
   ]
  },
  {
   "cell_type": "code",
   "execution_count": 10,
   "metadata": {},
   "outputs": [
    {
     "data": {
      "image/png": "[encoded data removed]",
      "text/plain": [
       "<Figure size 432x288 with 1 Axes>"
      ]
     },
     "metadata": {
      "needs_background": "light"
     },
     "output_type": "display_data"
    }
   ],
   "source": [
    "# Create a scatter plot based on lat and humuduty\n",
    "plt.scatter(x = city_data['Lat'], y = city_data['Humidity'], edgecolors = 'black', color = 'blue')\n",
    "\n",
    "# This extracts the date and returns it in the local time zone\n",
    "weather_date = datetime.fromtimestamp(city_data.loc[0,'Date']).strftime('%m-%d-%Y')\n",
    "\n",
    "# Add labels and title to plot\n",
    "plt.xlabel(\"Latitude\")\n",
    "plt.ylabel(\"Humidity (%)\")\n",
    "plt.title(f\"City Latitude vs Humidity ({weather_date})\")\n",
    "plt.grid(b=True, which='major', color='#666666', linestyle='-')\n",
    "\n",
    "# Display plot\n",
    "plt.show()\n",
    "\n",
    "# Plot is showing the relationship between latitude and humidity"
   ]
  },
  {
   "cell_type": "markdown",
   "metadata": {},
   "source": [
    "## Latitude vs. Cloudiness Plot"
   ]
  },
  {
   "cell_type": "code",
   "execution_count": 11,
   "metadata": {},
   "outputs": [
    {
     "data": {
      "image/png": "[encoded data removed]",
      "text/plain": [
       "<Figure size 432x288 with 1 Axes>"
      ]
     },
     "metadata": {
      "needs_background": "light"
     },
     "output_type": "display_data"
    }
   ],
   "source": [
    "# Create a scatter plot based on lat and cloudiness\n",
    "plt.scatter(x = city_data['Lat'], y = city_data['Cloudiness'], edgecolors = 'black', color = 'blue')\n",
    "\n",
    "# This extracts the date and returns it in the local time zone\n",
    "weather_date = datetime.fromtimestamp(city_data.loc[0,'Date']).strftime('%m-%d-%Y')\n",
    "\n",
    "# Add labels and title to plot\n",
    "plt.xlabel(\"Latitude\")\n",
    "plt.ylabel(\"Cloudiness (%)\")\n",
    "plt.title(f\"City Latitude vs Cloudiness ({weather_date})\")\n",
    "plt.grid(b=True, which='major', color='#666666', linestyle='-')\n",
    "\n",
    "# Display plot\n",
    "plt.show()\n",
    "\n",
    "# Plot is showing the lack of relationship between latitude and cloudiness "
   ]
  },
  {
   "cell_type": "markdown",
   "metadata": {},
   "source": [
    "## Latitude vs. Wind Speed Plot"
   ]
  },
  {
   "cell_type": "code",
   "execution_count": 12,
   "metadata": {},
   "outputs": [
    {
     "data": {
      "image/png": "[encoded data removed]",
      "text/plain": [
       "<Figure size 432x288 with 1 Axes>"
      ]
     },
     "metadata": {
      "needs_background": "light"
     },
     "output_type": "display_data"
    }
   ],
   "source": [
    "# Create a scatter plot based on lat and wind speed\n",
    "plt.scatter(x = city_data['Lat'], y = city_data['Wind Speed'], edgecolors = 'black', color = 'blue')\n",
    "\n",
    "# This extracts the date and returns it in the local time zone\n",
    "weather_date = datetime.fromtimestamp(city_data.loc[0,'Date']).strftime('%m-%d-%Y')\n",
    "\n",
    "# Add labels and title to plot\n",
    "plt.xlabel(\"Latitude\")\n",
    "plt.ylabel(\"Wind Speed (mph)\")\n",
    "plt.title(f\"City Latitude vs Wind Speed ({weather_date})\")\n",
    "plt.grid(b=True, which='major', color='#666666', linestyle='-')\n",
    "\n",
    "# Display plot\n",
    "plt.show()\n",
    "\n",
    "# Plot is showing the lack of relationship between latitude and wind speed"
   ]
  },
  {
   "cell_type": "markdown",
   "metadata": {},
   "source": [
    "## Linear Regression"
   ]
  },
  {
   "cell_type": "code",
   "execution_count": 13,
   "metadata": {},
   "outputs": [],
   "source": [
    "# Create Northern and Southern Hemisphere DataFrames for the regression testing below\n",
    "city_data_north = city_data.loc[city_data['Lat'] > 0]\n",
    "city_data_south = city_data.loc[city_data['Lat'] < 0]"
   ]
  },
  {
   "cell_type": "markdown",
   "metadata": {},
   "source": [
    "####  Northern Hemisphere - Max Temp vs. Latitude Linear Regression"
   ]
  },
  {
   "cell_type": "code",
   "execution_count": 14,
   "metadata": {},
   "outputs": [
    {
     "name": "stdout",
     "output_type": "stream",
     "text": [
      "The r-value is: -0.8791316862577806\n"
     ]
    },
    {
     "data": {
      "image/png": "[encoded data removed]",
      "text/plain": [
       "<Figure size 432x288 with 1 Axes>"
      ]
     },
     "metadata": {
      "needs_background": "light"
     },
     "output_type": "display_data"
    }
   ],
   "source": [
    "# Northern data fram .loc lat > 0\n",
    "\n",
    "x_values = city_data_north['Lat']\n",
    "y_values = city_data_north['Max Temp']\n",
    "(slope, intercept, rvalue, pvalue, stderr) = linregress(x_values, y_values)\n",
    "regress_values = x_values * slope + intercept\n",
    "line_eq = \"y = \" + str(round(slope,2)) + \"x + \" + str(round(intercept,2))\n",
    "plt.scatter(x_values,y_values)\n",
    "plt.plot(x_values,regress_values,\"r-\")\n",
    "plt.annotate(line_eq,(1,-10),fontsize=15,color=\"red\")\n",
    "plt.xlabel('Latitude')\n",
    "plt.ylabel('Max Temp')\n",
    "print(f\"The r-value is: {rvalue}\")\n",
    "plt.show()"
   ]
  },
  {
   "cell_type": "markdown",
   "metadata": {},
   "source": [
    "####  Southern Hemisphere - Max Temp vs. Latitude Linear Regression"
   ]
  },
  {
   "cell_type": "code",
   "execution_count": 22,
   "metadata": {},
   "outputs": [
    {
     "name": "stdout",
     "output_type": "stream",
     "text": [
      "The r-value is: 0.5750444502077564\n"
     ]
    },
    {
     "data": {
      "image/png": "[encoded data removed]",
      "text/plain": [
       "<Figure size 432x288 with 1 Axes>"
      ]
     },
     "metadata": {
      "needs_background": "light"
     },
     "output_type": "display_data"
    }
   ],
   "source": [
    "# Southern data frame .loc lat > 0\n",
    "\n",
    "x_values = city_data_south['Lat']\n",
    "y_values = city_data_south['Max Temp']\n",
    "(slope, intercept, rvalue, pvalue, stderr) = linregress(x_values, y_values)\n",
    "regress_values = x_values * slope + intercept\n",
    "line_eq = \"y = \" + str(round(slope,2)) + \"x + \" + str(round(intercept,2))\n",
    "plt.scatter(x_values,y_values)\n",
    "plt.plot(x_values,regress_values,\"r-\")\n",
    "plt.annotate(line_eq,(-55,85),fontsize=15,color=\"red\")\n",
    "plt.xlabel('Latitude')\n",
    "plt.ylabel('Max Temp')\n",
    "print(f\"The r-value is: {rvalue}\")\n",
    "plt.show()\n",
    "\n",
    "# The linear regressions show the further you get from the equator the colder the temp"
   ]
  },
  {
   "cell_type": "markdown",
   "metadata": {},
   "source": [
    "####  Northern Hemisphere - Humidity (%) vs. Latitude Linear Regression"
   ]
  },
  {
   "cell_type": "code",
   "execution_count": 24,
   "metadata": {},
   "outputs": [
    {
     "name": "stdout",
     "output_type": "stream",
     "text": [
      "The r-value is: 0.39706960589583723\n"
     ]
    },
    {
     "data": {
      "image/png": "[encoded data removed]",
      "text/plain": [
       "<Figure size 432x288 with 1 Axes>"
      ]
     },
     "metadata": {
      "needs_background": "light"
     },
     "output_type": "display_data"
    }
   ],
   "source": [
    "# Northern data fram .loc lat > 0\n",
    "\n",
    "x_values = city_data_north['Lat']\n",
    "y_values = city_data_north['Humidity']\n",
    "(slope, intercept, rvalue, pvalue, stderr) = linregress(x_values, y_values)\n",
    "regress_values = x_values * slope + intercept\n",
    "line_eq = \"y = \" + str(round(slope,2)) + \"x + \" + str(round(intercept,2))\n",
    "plt.scatter(x_values,y_values)\n",
    "plt.plot(x_values,regress_values,\"r-\")\n",
    "plt.annotate(line_eq,(42,20),fontsize=15,color=\"red\")\n",
    "plt.xlabel('Latitude')\n",
    "plt.ylabel('Humidity (%)')\n",
    "print(f\"The r-value is: {rvalue}\")\n",
    "plt.show()"
   ]
  },
  {
   "cell_type": "markdown",
   "metadata": {},
   "source": [
    "####  Southern Hemisphere - Humidity (%) vs. Latitude Linear Regression"
   ]
  },
  {
   "cell_type": "code",
   "execution_count": 27,
   "metadata": {},
   "outputs": [
    {
     "name": "stdout",
     "output_type": "stream",
     "text": [
      "The r-value is: 0.39342799725540634\n"
     ]
    },
    {
     "data": {
      "image/png": "[encoded data removed]",
      "text/plain": [
       "<Figure size 432x288 with 1 Axes>"
      ]
     },
     "metadata": {
      "needs_background": "light"
     },
     "output_type": "display_data"
    }
   ],
   "source": [
    "# Southern data frame .loc lat > 0\n",
    "\n",
    "x_values = city_data_south['Lat']\n",
    "y_values = city_data_south['Humidity']\n",
    "(slope, intercept, rvalue, pvalue, stderr) = linregress(x_values, y_values)\n",
    "regress_values = x_values * slope + intercept\n",
    "line_eq = \"y = \" + str(round(slope,2)) + \"x + \" + str(round(intercept,2))\n",
    "plt.scatter(x_values,y_values)\n",
    "plt.plot(x_values,regress_values,\"r-\")\n",
    "plt.annotate(line_eq,(-27,28),fontsize=15,color=\"red\")\n",
    "plt.xlabel('Latitude')\n",
    "plt.ylabel('Humidity (%)')\n",
    "print(f\"The r-value is: {rvalue}\")\n",
    "plt.show()\n",
    "\n",
    "# The linear regressions for the nothern hemispher shows the further away from the equator the greater chance of humid weather. \n",
    "# The southern hemispher doesnt have as strong of a relationship between latitude and humidity."
   ]
  },
  {
   "cell_type": "markdown",
   "metadata": {},
   "source": [
    "####  Northern Hemisphere - Cloudiness (%) vs. Latitude Linear Regression"
   ]
  },
  {
   "cell_type": "code",
   "execution_count": 29,
   "metadata": {},
   "outputs": [
    {
     "name": "stdout",
     "output_type": "stream",
     "text": [
      "The r-value is: 0.2898223500838578\n"
     ]
    },
    {
     "data": {
      "image/png": "[encoded data removed]",
      "text/plain": [
       "<Figure size 432x288 with 1 Axes>"
      ]
     },
     "metadata": {
      "needs_background": "light"
     },
     "output_type": "display_data"
    }
   ],
   "source": [
    "# Northern data fram .loc lat > 0\n",
    "\n",
    "x_values = city_data_north['Lat']\n",
    "y_values = city_data_north['Cloudiness']\n",
    "(slope, intercept, rvalue, pvalue, stderr) = linregress(x_values, y_values)\n",
    "regress_values = x_values * slope + intercept\n",
    "line_eq = \"y = \" + str(round(slope,2)) + \"x + \" + str(round(intercept,2))\n",
    "plt.scatter(x_values,y_values)\n",
    "plt.plot(x_values,regress_values,\"r-\")\n",
    "plt.annotate(line_eq,(5,80),fontsize=15,color=\"red\")\n",
    "plt.xlabel('Latitude')\n",
    "plt.ylabel('Cloudiness')\n",
    "print(f\"The r-value is: {rvalue}\")\n",
    "plt.show()"
   ]
  },
  {
   "cell_type": "markdown",
   "metadata": {},
   "source": [
    "####  Southern Hemisphere - Cloudiness (%) vs. Latitude Linear Regression"
   ]
  },
  {
   "cell_type": "code",
   "execution_count": 34,
   "metadata": {},
   "outputs": [
    {
     "name": "stdout",
     "output_type": "stream",
     "text": [
      "The r-value is: 0.3476578430078082\n"
     ]
    },
    {
     "data": {
      "image/png": "[encoded data removed]",
      "text/plain": [
       "<Figure size 432x288 with 1 Axes>"
      ]
     },
     "metadata": {
      "needs_background": "light"
     },
     "output_type": "display_data"
    }
   ],
   "source": [
    "# Southern data frame .loc lat > 0\n",
    "\n",
    "x_values = city_data_south['Lat']\n",
    "y_values = city_data_south['Cloudiness']\n",
    "(slope, intercept, rvalue, pvalue, stderr) = linregress(x_values, y_values)\n",
    "regress_values = x_values * slope + intercept\n",
    "line_eq = \"y = \" + str(round(slope,2)) + \"x + \" + str(round(intercept,2))\n",
    "plt.scatter(x_values,y_values)\n",
    "plt.plot(x_values,regress_values,\"r-\")\n",
    "plt.annotate(line_eq,(-56,9),fontsize=15,color=\"red\")\n",
    "plt.xlabel('Latitude')\n",
    "plt.ylabel('Cloudiness')\n",
    "print(f\"The r-value is: {rvalue}\")\n",
    "plt.show()\n",
    "\n",
    "# The linear regression shows little relationship between latitude and cloudiness. "
   ]
  },
  {
   "cell_type": "markdown",
   "metadata": {},
   "source": [
    "####  Northern Hemisphere - Wind Speed (mph) vs. Latitude Linear Regression"
   ]
  },
  {
   "cell_type": "code",
   "execution_count": 35,
   "metadata": {},
   "outputs": [
    {
     "name": "stdout",
     "output_type": "stream",
     "text": [
      "The r-value is: -0.06075858286553007\n"
     ]
    },
    {
     "data": {
      "image/png": "[encoded data removed]",
      "text/plain": [
       "<Figure size 432x288 with 1 Axes>"
      ]
     },
     "metadata": {
      "needs_background": "light"
     },
     "output_type": "display_data"
    }
   ],
   "source": [
    "# Northern data fram .loc lat > 0\n",
    "\n",
    "x_values = city_data_north['Lat']\n",
    "y_values = city_data_north['Wind Speed']\n",
    "(slope, intercept, rvalue, pvalue, stderr) = linregress(x_values, y_values)\n",
    "regress_values = x_values * slope + intercept\n",
    "line_eq = \"y = \" + str(round(slope,2)) + \"x + \" + str(round(intercept,2))\n",
    "plt.scatter(x_values,y_values)\n",
    "plt.plot(x_values,regress_values,\"r-\")\n",
    "plt.annotate(line_eq,(5,40),fontsize=15,color=\"red\")\n",
    "plt.xlabel('Latitude')\n",
    "plt.ylabel('Wind Speed')\n",
    "print(f\"The r-value is: {rvalue}\")\n",
    "plt.show()"
   ]
  },
  {
   "cell_type": "markdown",
   "metadata": {},
   "source": [
    "####  Southern Hemisphere - Wind Speed (mph) vs. Latitude Linear Regression"
   ]
  },
  {
   "cell_type": "code",
   "execution_count": 37,
   "metadata": {},
   "outputs": [
    {
     "name": "stdout",
     "output_type": "stream",
     "text": [
      "The r-value is: -0.2744517559937986\n"
     ]
    },
    {
     "data": {
      "image/png": "[encoded data removed]",
      "text/plain": [
       "<Figure size 432x288 with 1 Axes>"
      ]
     },
     "metadata": {
      "needs_background": "light"
     },
     "output_type": "display_data"
    }
   ],
   "source": [
    "# Southern data frame .loc lat > 0\n",
    "\n",
    "x_values = city_data_south['Lat']\n",
    "y_values = city_data_south['Wind Speed']\n",
    "(slope, intercept, rvalue, pvalue, stderr) = linregress(x_values, y_values)\n",
    "regress_values = x_values * slope + intercept\n",
    "line_eq = \"y = \" + str(round(slope,2)) + \"x + \" + str(round(intercept,2))\n",
    "plt.scatter(x_values,y_values)\n",
    "plt.plot(x_values,regress_values,\"r-\")\n",
    "plt.annotate(line_eq,(-23,25),fontsize=15,color=\"red\")\n",
    "plt.xlabel('Latitude')\n",
    "plt.ylabel('Wind Speed')\n",
    "print(f\"The r-value is: {rvalue}\")\n",
    "plt.show()\n",
    "\n",
    "# The linear regression shows little relationship between latitude and wind speed. "
   ]
  },
  {
   "cell_type": "code",
   "execution_count": null,
   "metadata": {},
   "outputs": [],
   "source": []
  }
 ],
 "metadata": {
  "anaconda-cloud": {},
  "kernel_info": {
   "name": "python3"
  },
  "kernelspec": {
   "display_name": "Python 3",
   "language": "python",
   "name": "python3"
  },
  "language_info": {
   "codemirror_mode": {
    "name": "ipython",
    "version": 3
   },
   "file_extension": ".py",
   "mimetype": "text/x-python",
   "name": "python",
   "nbconvert_exporter": "python",
   "pygments_lexer": "ipython3",
   "version": "3.8.5"
  },
  "latex_envs": {
   "LaTeX_envs_menu_present": true,
   "autoclose": false,
   "autocomplete": true,
   "bibliofile": "biblio.bib",
   "cite_by": "apalike",
   "current_citInitial": 1,
   "eqLabelWithNumbers": true,
   "eqNumInitial": 1,
   "hotkeys": {
    "equation": "Ctrl-E",
    "itemize": "Ctrl-I"
   },
   "labels_anchors": false,
   "latex_user_defs": false,
   "report_style_numbering": false,
   "user_envs_cfg": false
  },
  "nteract": {
   "version": "0.12.3"
  }
 },
 "nbformat": 4,
 "nbformat_minor": 2
}
